{
 "cells": [
  {
   "cell_type": "code",
   "execution_count": null,
   "metadata": {},
   "outputs": [],
   "source": [
    "import requests\n",
    "import json\n",
    "import pandas as pd\n",
    "import time\n",
    "from datetime import datetime\n",
    "from os import path\n",
    "import requests\n",
    "import seaborn as sns; sns.set()\n",
    "import matplotlib.pyplot as plt\n",
    "%matplotlib inline\n",
    "import numpy as np; np.random.seed(0)\n",
    "from datetime import date\n",
    "import scipy.stats"
   ]
  },
  {
   "cell_type": "code",
   "execution_count": null,
   "metadata": {},
   "outputs": [],
   "source": [
    "from __future__ import print_function\n",
    "import matplotlib.ticker as ticker\n",
    "from colour import Color"
   ]
  },
  {
   "cell_type": "code",
   "execution_count": null,
   "metadata": {},
   "outputs": [],
   "source": [
    "color1 = '#%02x%02x%02x' % (25, 114, 120)\n",
    "color2 = '#%02x%02x%02x' % (237, 221, 212)\n",
    "color3 = '#%02x%02x%02x' % (196, 69, 54)"
   ]
  },
  {
   "cell_type": "markdown",
   "metadata": {},
   "source": [
    "## HOPR - ETH - BTC databases"
   ]
  },
  {
   "cell_type": "markdown",
   "metadata": {},
   "source": [
    "#### The dataframes are based on the daily, aggregated data provided by Uniswap about the three token's price and about the daily trading volume, liquidity and transactions of HOPR. "
   ]
  },
  {
   "cell_type": "markdown",
   "metadata": {},
   "source": [
    "#### HOPR"
   ]
  },
  {
   "cell_type": "code",
   "execution_count": null,
   "metadata": {
    "scrolled": false
   },
   "outputs": [],
   "source": [
    "url = 'https://api.thegraph.com/subgraphs/name/uniswap/uniswap-v2'\n",
    "\n",
    "data_h = '''\n",
    "query {\n",
    "tokenDayDatas(where:{token: \"0xf5581dfefd8fb0e4aec526be659cfab1f8c781da\"}, orderBy:date, orderDirection:desc)\n",
    "  {\n",
    "    id\n",
    "    date\n",
    "    priceUSD\n",
    "    totalLiquidityToken\n",
    "    totalLiquidityUSD\n",
    "    totalLiquidityETH\n",
    "    dailyVolumeETH\n",
    "    dailyVolumeToken\n",
    "    dailyVolumeUSD\n",
    "    dailyTxns\n",
    "  }\n",
    "}\n",
    "'''\n",
    "\n",
    "response_h = requests.post(url,json={'query': data_h})\n",
    "data_h = json.loads(response_h.text)"
   ]
  },
  {
   "cell_type": "code",
   "execution_count": null,
   "metadata": {
    "scrolled": false
   },
   "outputs": [],
   "source": [
    "df_h = pd.DataFrame((pd.DataFrame(data_h)).iloc[0][0])"
   ]
  },
  {
   "cell_type": "code",
   "execution_count": null,
   "metadata": {},
   "outputs": [],
   "source": [
    "df_h2 = df_h.rename(columns = {'id': 'id_h', 'date': 'date', 'priceUSD': 'priceUSD_h',\n",
    "    'totalLiquidityToken': 'totalLiquidityToken_h',\n",
    "    'totalLiquidityUSD': 'totalLiquidityUSD_h',\n",
    "    'totalLiquidityETH': 'totalLiquidityETH_h',\n",
    "    'dailyVolumeETH': 'dailyVolumeETH_h',\n",
    "    'dailyVolumeToken': 'dailyVolumeToken_h',\n",
    "    'dailyVolumeUSD': 'dailyVolumeUSD_h',\n",
    "    'dailyTxns': 'dailyTxns_h' }, inplace = False)"
   ]
  },
  {
   "cell_type": "code",
   "execution_count": null,
   "metadata": {},
   "outputs": [],
   "source": [
    "#final HOPR dataframe = df_h2\n",
    "df_h2.head(5)"
   ]
  },
  {
   "cell_type": "markdown",
   "metadata": {},
   "source": [
    "#### ETH "
   ]
  },
  {
   "cell_type": "code",
   "execution_count": null,
   "metadata": {},
   "outputs": [],
   "source": [
    "url = 'https://api.thegraph.com/subgraphs/name/uniswap/uniswap-v2'\n",
    "\n",
    "data_e = '''\n",
    "query {\n",
    "tokenDayDatas(where:{token: \"0xc02aaa39b223fe8d0a0e5c4f27ead9083c756cc2\"}, orderBy:date, orderDirection:desc)\n",
    "  {\n",
    "    id\n",
    "    date\n",
    "    priceUSD\n",
    "\n",
    "  }\n",
    "}\n",
    "'''\n",
    "response_e = requests.post(url,json={'query': data_e})\n",
    "data_e = json.loads(response_e.text)"
   ]
  },
  {
   "cell_type": "code",
   "execution_count": null,
   "metadata": {
    "scrolled": true
   },
   "outputs": [],
   "source": [
    "df_e = pd.DataFrame((pd.DataFrame(data_e)).iloc[0][0])"
   ]
  },
  {
   "cell_type": "code",
   "execution_count": null,
   "metadata": {},
   "outputs": [],
   "source": [
    "df_e2 = df_e.rename(columns = {'id': 'id_e', 'date': 'date', 'priceUSD': 'priceUSD_e'}, inplace = False)"
   ]
  },
  {
   "cell_type": "code",
   "execution_count": null,
   "metadata": {},
   "outputs": [],
   "source": [
    "#final ETH dataframe = df_e2\n",
    "df_e2.head(5)"
   ]
  },
  {
   "cell_type": "markdown",
   "metadata": {},
   "source": [
    "#### BTC (wrapped bitcoin)"
   ]
  },
  {
   "cell_type": "code",
   "execution_count": null,
   "metadata": {},
   "outputs": [],
   "source": [
    "url = 'https://api.thegraph.com/subgraphs/name/uniswap/uniswap-v2'\n",
    "#url = 'https://api.thegraph.com/subgraphs/name/ianlapham/uniswapbackup'\n",
    "\n",
    "data_b = '''\n",
    "query {\n",
    "tokenDayDatas(where:{token: \"0x2260fac5e5542a773aa44fbcfedf7c193bc2c599\"}, orderBy:date, orderDirection:desc)\n",
    "  {\n",
    "    id\n",
    "    date\n",
    "    priceUSD\n",
    "\n",
    "  }\n",
    "}\n",
    "'''\n",
    "response_b = requests.post(url,json={'query': data_b})\n",
    "data_b = json.loads(response_b.text)"
   ]
  },
  {
   "cell_type": "code",
   "execution_count": null,
   "metadata": {},
   "outputs": [],
   "source": [
    "df_b = pd.DataFrame((pd.DataFrame(data_b)).iloc[0][0])"
   ]
  },
  {
   "cell_type": "code",
   "execution_count": null,
   "metadata": {},
   "outputs": [],
   "source": [
    "df_b2 = df_b.rename(columns = {'id': 'id_b', 'date': 'date', 'priceUSD': 'priceUSD_b'}, inplace = False)"
   ]
  },
  {
   "cell_type": "code",
   "execution_count": null,
   "metadata": {},
   "outputs": [],
   "source": [
    "#final BTC dataframe = df_b2\n",
    "df_b2.head(5)"
   ]
  },
  {
   "cell_type": "code",
   "execution_count": null,
   "metadata": {},
   "outputs": [],
   "source": [
    "df_mer = pd.merge(pd.merge(df_h2,df_e2,on='date'),df_b2,on='date')"
   ]
  },
  {
   "cell_type": "code",
   "execution_count": null,
   "metadata": {},
   "outputs": [],
   "source": [
    "df_mer[['dailyVolumeETH_h', 'dailyVolumeToken_h', 'dailyVolumeUSD_h', 'priceUSD_h', 'totalLiquidityETH_h', 'totalLiquidityToken_h',\n",
    "       'totalLiquidityUSD_h', 'priceUSD_e', 'priceUSD_b', 'date', 'dailyTxns_h']] = df_mer[['dailyVolumeETH_h', 'dailyVolumeToken_h', 'dailyVolumeUSD_h', 'priceUSD_h', 'totalLiquidityETH_h', 'totalLiquidityToken_h',\n",
    "       'totalLiquidityUSD_h', 'priceUSD_e', 'priceUSD_b', 'date', 'dailyTxns_h']].apply(pd.to_numeric)"
   ]
  },
  {
   "cell_type": "code",
   "execution_count": null,
   "metadata": {
    "scrolled": true
   },
   "outputs": [],
   "source": [
    "df_mer['date_r'] = pd.to_datetime(df_mer['date'], unit='s').apply(lambda x: x.date())"
   ]
  },
  {
   "cell_type": "code",
   "execution_count": null,
   "metadata": {},
   "outputs": [],
   "source": [
    "import calendar"
   ]
  },
  {
   "cell_type": "code",
   "execution_count": null,
   "metadata": {},
   "outputs": [],
   "source": [
    "df_mer[\"weekday\"] = df_mer['date_r'].apply(lambda x: calendar.day_name[x.weekday()])"
   ]
  },
  {
   "cell_type": "code",
   "execution_count": null,
   "metadata": {},
   "outputs": [],
   "source": [
    "#merged dataframe, containing the data of the HOPR, ETH, BTC tokens - df_mer\n",
    "df_mer.head(5)"
   ]
  },
  {
   "cell_type": "markdown",
   "metadata": {},
   "source": [
    "## HOPR - ETH/BTC price "
   ]
  },
  {
   "cell_type": "code",
   "execution_count": null,
   "metadata": {},
   "outputs": [],
   "source": [
    "price_corr = df_mer[[\"priceUSD_h\", \"priceUSD_e\", \"priceUSD_b\"]]"
   ]
  },
  {
   "cell_type": "code",
   "execution_count": null,
   "metadata": {
    "scrolled": true
   },
   "outputs": [],
   "source": [
    "plt.figure(figsize=(5,5))\n",
    "heatmap = sns.heatmap(price_corr.corr(), vmin=-1, vmax=1, annot=True)\n",
    "plt.show()"
   ]
  },
  {
   "cell_type": "markdown",
   "metadata": {},
   "source": [
    "#### HOPR - ETH price"
   ]
  },
  {
   "cell_type": "code",
   "execution_count": null,
   "metadata": {},
   "outputs": [],
   "source": [
    "d_e = df_mer['priceUSD_e']\n",
    "d_h = df_mer['priceUSD_h']\n",
    "d_b = df_mer['priceUSD_b']\n",
    "time = df_mer['date_r']\n",
    "weekday = df_mer['weekday']\n",
    "usdvol = df_mer['dailyVolumeUSD_h']\n",
    "Txns = df_mer['dailyTxns_h']"
   ]
  },
  {
   "cell_type": "code",
   "execution_count": null,
   "metadata": {},
   "outputs": [],
   "source": [
    "t = list(time)"
   ]
  },
  {
   "cell_type": "code",
   "execution_count": null,
   "metadata": {
    "scrolled": true
   },
   "outputs": [],
   "source": [
    "fig, axs = plt.subplots(2, sharex = True, figsize=(12, 8))\n",
    "axs[0].plot(time, d_h, color=color1)\n",
    "axs[0].set_title('HOPR daily USD price')\n",
    "axs[1].plot(time, d_e, color=color3)\n",
    "axs[1].set_title('ETH daily USD price')"
   ]
  },
  {
   "cell_type": "code",
   "execution_count": null,
   "metadata": {
    "scrolled": true
   },
   "outputs": [],
   "source": [
    "plt.figure(figsize=(20,7))\n",
    "\n",
    "fig1 = plt.figure(1)\n",
    "ax1 = fig1.add_subplot(111)\n",
    "ax1.plot(time, d_h, color=color1)\n",
    "ax1.set_xlabel('date')\n",
    "ax1.set_ylabel('HOPR price in USD', color=color1)\n",
    "ax1.grid(True)\n",
    "\n",
    "ax2 = ax1.twinx()\n",
    "ax2.plot(time, d_e, color=color3)\n",
    "ax2.set_ylabel(\"ETH price in USD\", color=color3)\n",
    "\n",
    "fig1.set_tight_layout(True)\n",
    "plt.show()"
   ]
  },
  {
   "cell_type": "code",
   "execution_count": null,
   "metadata": {},
   "outputs": [],
   "source": [
    "## Scaled price chart"
   ]
  },
  {
   "cell_type": "code",
   "execution_count": null,
   "metadata": {},
   "outputs": [],
   "source": [
    "from sklearn.preprocessing import QuantileTransformer"
   ]
  },
  {
   "cell_type": "code",
   "execution_count": null,
   "metadata": {},
   "outputs": [],
   "source": [
    "df_sc = df_mer[[\"priceUSD_h\", 'priceUSD_e', 'priceUSD_b']]"
   ]
  },
  {
   "cell_type": "code",
   "execution_count": null,
   "metadata": {
    "scrolled": true
   },
   "outputs": [],
   "source": [
    "scaler = QuantileTransformer(output_distribution='uniform')\n",
    "scaled_df = scaler.fit_transform(df_sc)\n",
    "scaled_df = (pd.DataFrame(scaled_df, columns=df_sc.columns)).reset_index()"
   ]
  },
  {
   "cell_type": "code",
   "execution_count": null,
   "metadata": {},
   "outputs": [],
   "source": [
    "ind_ti = (df_mer['date_r']).reset_index()"
   ]
  },
  {
   "cell_type": "code",
   "execution_count": null,
   "metadata": {
    "scrolled": true
   },
   "outputs": [],
   "source": [
    "df_scd = pd.merge(scaled_df,ind_ti,on='index')"
   ]
  },
  {
   "cell_type": "code",
   "execution_count": null,
   "metadata": {},
   "outputs": [],
   "source": [
    "#scaled dataframe - df_scd\n",
    "df_scd.head(5)"
   ]
  },
  {
   "cell_type": "code",
   "execution_count": null,
   "metadata": {},
   "outputs": [],
   "source": [
    "j = df_scd[\"priceUSD_h\"]\n",
    "k = df_scd[\"priceUSD_e\"]\n",
    "l = df_scd[\"priceUSD_b\"]"
   ]
  },
  {
   "cell_type": "code",
   "execution_count": null,
   "metadata": {
    "scrolled": true
   },
   "outputs": [],
   "source": [
    "corr_h_e = j.corr(k)\n",
    "corr_h_b = j.corr(l)"
   ]
  },
  {
   "cell_type": "code",
   "execution_count": null,
   "metadata": {},
   "outputs": [],
   "source": [
    "df_scd['corr_h_e'] = (df_scd['index']*corr_h_e/-100)+0.5\n",
    "df_scd['corr_h_b'] = (df_scd['index']*corr_h_b/-100)+0.5"
   ]
  },
  {
   "cell_type": "code",
   "execution_count": null,
   "metadata": {},
   "outputs": [],
   "source": [
    "c_h_e = df_scd['corr_h_e']\n",
    "c_h_b = df_scd['corr_h_b']"
   ]
  },
  {
   "cell_type": "code",
   "execution_count": null,
   "metadata": {
    "scrolled": false
   },
   "outputs": [],
   "source": [
    "plt.figure(figsize=(20,7))\n",
    "\n",
    "fig1 = plt.figure(1)\n",
    "ax1 = fig1.add_subplot(111)\n",
    "ax1.plot(time, j, color=color1)\n",
    "ax1.set_xlabel('date')\n",
    "ax1.grid(True)\n",
    "ax1.set_title('HOPR and ETH scaled daily USD price')\n",
    "\n",
    "ax2 = ax1\n",
    "ax2.plot(time, k, color=color3)\n",
    "\n",
    "ax3 = ax1\n",
    "ax2.plot(time, c_h_e, color=\"black\", linestyle='dashed')\n",
    "\n",
    "fig1.set_tight_layout(True)\n",
    "plt.show()"
   ]
  },
  {
   "cell_type": "code",
   "execution_count": null,
   "metadata": {},
   "outputs": [],
   "source": [
    "#subset of data identifying the turning point of the correlation trend"
   ]
  },
  {
   "cell_type": "code",
   "execution_count": null,
   "metadata": {},
   "outputs": [],
   "source": [
    "df_scd[\"wh\"] = df_scd[\"priceUSD_h\"] == df_scd[\"priceUSD_e\"]"
   ]
  },
  {
   "cell_type": "code",
   "execution_count": null,
   "metadata": {},
   "outputs": [],
   "source": [
    "df_scd2 = (df_scd.sort_values(by=\"date_r\")).reset_index()"
   ]
  },
  {
   "cell_type": "code",
   "execution_count": null,
   "metadata": {},
   "outputs": [],
   "source": [
    "alt_df = df_scd2.iloc[0:35, ]"
   ]
  },
  {
   "cell_type": "code",
   "execution_count": null,
   "metadata": {},
   "outputs": [],
   "source": [
    "alt_df['priceUSD_h'].corr(alt_df['priceUSD_e'])"
   ]
  },
  {
   "cell_type": "markdown",
   "metadata": {},
   "source": [
    "#### HOPR - BTC price "
   ]
  },
  {
   "cell_type": "code",
   "execution_count": null,
   "metadata": {
    "scrolled": true
   },
   "outputs": [],
   "source": [
    "fig, axs = plt.subplots(2, sharex = True, figsize=(12, 8))\n",
    "axs[0].plot(time, d_h, color=color1)\n",
    "axs[0].set_title('HOPR daily USD price')\n",
    "axs[1].plot(time, d_b, color=color3)\n",
    "axs[1].set_title('BTC daily USD price')"
   ]
  },
  {
   "cell_type": "code",
   "execution_count": null,
   "metadata": {
    "scrolled": true
   },
   "outputs": [],
   "source": [
    "plt.figure(figsize=(20,7))\n",
    "\n",
    "fig1 = plt.figure(1)\n",
    "ax1 = fig1.add_subplot(111)\n",
    "ax1.plot(time, d_h, color=color1)\n",
    "ax1.set_xlabel('date')\n",
    "ax1.set_ylabel('HOPR price in USD', color=color1)\n",
    "ax1.grid(True)\n",
    "\n",
    "ax2 = ax1.twinx()\n",
    "ax2.plot(time, d_b, color=color3)\n",
    "ax2.set_ylabel(\"BTC price in USD\", color=color3)\n",
    "\n",
    "fig1.set_tight_layout(True)\n",
    "plt.show()"
   ]
  },
  {
   "cell_type": "code",
   "execution_count": null,
   "metadata": {},
   "outputs": [],
   "source": [
    "plt.figure(figsize=(20,7))\n",
    "\n",
    "fig1 = plt.figure(1)\n",
    "ax1 = fig1.add_subplot(111)\n",
    "ax1.plot(time, j, color=color1)\n",
    "ax1.set_xlabel('date')\n",
    "ax1.grid(True)\n",
    "ax1.set_title('HOPR and BTC scaled daily USD price')\n",
    "\n",
    "ax2 = ax1\n",
    "ax2.plot(time, l, color=color3)\n",
    "\n",
    "ax3 = ax1\n",
    "ax2.plot(time, c_h_b, color=\"black\", linestyle='dashed')\n",
    "\n",
    "fig1.set_tight_layout(True)\n",
    "plt.show()"
   ]
  },
  {
   "cell_type": "markdown",
   "metadata": {},
   "source": [
    "## HOPR and Twitter activity"
   ]
  },
  {
   "cell_type": "markdown",
   "metadata": {},
   "source": [
    "#### Source: Most popular tweets between the launch of HOPR and middle of April."
   ]
  },
  {
   "cell_type": "code",
   "execution_count": null,
   "metadata": {},
   "outputs": [],
   "source": [
    "path = \"C:/Users/szany/Desktop/horp/\""
   ]
  },
  {
   "cell_type": "code",
   "execution_count": null,
   "metadata": {},
   "outputs": [],
   "source": [
    "t1 = pd.read_csv(path + '/tweet_activity_metrics_hoprnet_20210201_20210301_en.csv')\n",
    "t2 = pd.read_csv(path + '/tweet_activity_metrics_hoprnet_20210301_20210401_en.csv')\n",
    "t3 = pd.read_csv(path + '/tweet_activity_metrics_hoprnet_20210401_20210414_en.csv')"
   ]
  },
  {
   "cell_type": "code",
   "execution_count": null,
   "metadata": {},
   "outputs": [],
   "source": [
    "tf_0 = t1.append([t2], ignore_index=True)\n",
    "tf = tf_0.append([t3], ignore_index=True)"
   ]
  },
  {
   "cell_type": "code",
   "execution_count": null,
   "metadata": {},
   "outputs": [],
   "source": [
    "#sorted dataframe to identify the most popular tweets "
   ]
  },
  {
   "cell_type": "code",
   "execution_count": null,
   "metadata": {},
   "outputs": [],
   "source": [
    "tf_s = tf.sort_values('likes', ascending=False, ignore_index=True)"
   ]
  },
  {
   "cell_type": "code",
   "execution_count": null,
   "metadata": {
    "scrolled": true
   },
   "outputs": [],
   "source": [
    "tf_s.head(10)"
   ]
  },
  {
   "cell_type": "code",
   "execution_count": null,
   "metadata": {},
   "outputs": [],
   "source": [
    "a = t.index(date(2021, 2, 28))\n",
    "b = t.index(date(2021, 3, 1))\n",
    "c = t.index(date(2021, 3, 14))\n",
    "d = t.index(date(2021, 3, 26))\n",
    "e = t.index(date(2021, 3, 28))\n",
    "f = t.index(date(2021, 3, 30))\n",
    "h = t.index(date(2021, 4, 4))"
   ]
  },
  {
   "cell_type": "code",
   "execution_count": null,
   "metadata": {
    "scrolled": false
   },
   "outputs": [],
   "source": [
    "le = 1.2\n",
    "ls = 0.45\n",
    "\n",
    "fig, (ax) = plt.subplots(figsize=(20, 7))\n",
    "ax.plot(t, d_h, color=color1)\n",
    "ax.set_title('HOPR daily USD price')\n",
    "ax.vlines(t[a], ls, le, linestyle='dashed', color='y')\n",
    "ax.text(t[a], y=le, s='Get HOPR', alpha=0.7, color='y')\n",
    "ax.vlines(t[b], ls, le, linestyle='dashed', color='b')\n",
    "ax.text(t[b], y=(le-0.05), s='HOPR-DAI in top 20', alpha=0.7, color='b')\n",
    "ax.vlines(t[c], ls, le, linestyle='dashed', color='g')\n",
    "ax.text(t[c], y=(le-0.1), s='The founders', alpha=0.7, color='g')\n",
    "ax.vlines(t[d], ls, le, linestyle='dashed', color='r')\n",
    "ax.text(t[d], y=(le-0.15), s='CZ_binance', alpha=0.7, color='r')\n",
    "ax.vlines(t[e], ls, le, linestyle='dashed', color='m')\n",
    "ax.text(t[e], y=(le-0.2), s='HOPR mining', alpha=0.7, color='m')\n",
    "ax.vlines(t[f], ls, le, linestyle='dashed', color='c')\n",
    "ax.text(t[f], y=(le-0.25), s='HOPR Farm', alpha=0.7, color='c')\n",
    "ax.vlines(t[h], ls, le, linestyle='dashed', color='k')\n",
    "ax.text(t[h], y=(le-0.3), s='HOPR & DeFi', alpha=0.7, color='k')\n",
    "plt.show()"
   ]
  },
  {
   "cell_type": "code",
   "execution_count": null,
   "metadata": {},
   "outputs": [],
   "source": [
    "le = 13000000\n",
    "ls = 0\n",
    "\n",
    "fig, (ax) = plt.subplots(figsize=(20, 7))\n",
    "ax.bar(t, usdvol, color=color1)\n",
    "ax.set_title('HOPR daily trading volume in USD')\n",
    "ax.vlines(t[a], ls, le, linestyle='dashed', color='y')\n",
    "ax.text(t[a], y=le, s='Get HOPR', alpha=0.7, color='y')\n",
    "ax.vlines(t[b], ls, le, linestyle='dashed', color='b')\n",
    "ax.text(t[b], y=(le-1000000), s='HOPR-DAI in top 20', alpha=0.7, color='b')\n",
    "ax.vlines(t[c], ls, le, linestyle='dashed', color='g')\n",
    "ax.text(t[c], y=(le-2000000), s='The founders', alpha=0.7, color='g')\n",
    "ax.vlines(t[d], ls, le, linestyle='dashed', color='r')\n",
    "ax.text(t[d], y=(le-3000000), s='CZ_binance', alpha=0.7, color='r')\n",
    "ax.vlines(t[e], ls, le, linestyle='dashed', color='m')\n",
    "ax.text(t[e], y=(le-4000000), s='HOPR mining', alpha=0.7, color='m')\n",
    "ax.vlines(t[f], ls, le, linestyle='dashed', color='c')\n",
    "ax.text(t[f], y=(le-5000000), s='HOPR Farm', alpha=0.7, color='c')\n",
    "ax.vlines(t[h], ls, le, linestyle='dashed', color='k')\n",
    "ax.text(t[h], y=(le-6000000), s='HOPR & DeFi', alpha=0.7, color='k')\n",
    "plt.show()"
   ]
  },
  {
   "cell_type": "code",
   "execution_count": null,
   "metadata": {},
   "outputs": [],
   "source": [
    "le = 1300\n",
    "ls = 0\n",
    "\n",
    "fig, (ax) = plt.subplots(figsize=(20, 7))\n",
    "ax.bar(t, Txns, color=color1)\n",
    "ax.set_title('HOPR daily number of transactions')\n",
    "ax.vlines(t[a], ls, le, linestyle='dashed', color='y')\n",
    "ax.text(t[a], y=le, s='Get HOPR', alpha=0.7, color='y')\n",
    "ax.vlines(t[b], ls, le, linestyle='dashed', color='b')\n",
    "ax.text(t[b], y=(le-100), s='HOPR-DAI in top 20', alpha=0.7, color='b')\n",
    "ax.vlines(t[c], ls, le, linestyle='dashed', color='g')\n",
    "ax.text(t[c], y=(le-200), s='The founders', alpha=0.7, color='g')\n",
    "ax.vlines(t[d], ls, le, linestyle='dashed', color='r')\n",
    "ax.text(t[d], y=(le-300), s='CZ_binance', alpha=0.7, color='r')\n",
    "ax.vlines(t[e], ls, le, linestyle='dashed', color='m')\n",
    "ax.text(t[e], y=(le-400), s='HOPR mining', alpha=0.7, color='m')\n",
    "ax.vlines(t[f], ls, le, linestyle='dashed', color='c')\n",
    "ax.text(t[f], y=(le-500), s='HOPR Farm', alpha=0.7, color='c')\n",
    "ax.vlines(t[h], ls, le, linestyle='dashed', color='k')\n",
    "ax.text(t[h], y=(le-600), s='HOPR & DeFi', alpha=0.7, color='k')\n",
    "plt.show()"
   ]
  },
  {
   "cell_type": "markdown",
   "metadata": {},
   "source": [
    "## Traders activity"
   ]
  },
  {
   "cell_type": "markdown",
   "metadata": {},
   "source": [
    "#### Source: swaps in a 2 weeks period, 1-1 week before and after the CZ_Binance post."
   ]
  },
  {
   "cell_type": "code",
   "execution_count": null,
   "metadata": {},
   "outputs": [],
   "source": [
    "url = 'https://api.thegraph.com/subgraphs/name/uniswap/uniswap-v2'\n",
    "\n",
    "data_swb = '''\n",
    "{\n",
    "  swaps(\n",
    "    orderBy: timestamp,\n",
    "    orderDirection: asc,\n",
    "    first: 1000,\n",
    "    where: {\n",
    "      pair: \"0x92c2fc5f306405eab0ff0958f6d85d7f8892cf4d\",\n",
    "      timestamp_gte: 1616154120\n",
    "      timestamp_lte: 1616758920\n",
    "    }\n",
    "  ) {\n",
    "    transaction {\n",
    "      id\n",
    "      blockNumber\n",
    "    }\n",
    "    timestamp\n",
    "    sender\n",
    "    to\n",
    "    amount0In\n",
    "    amount1In\n",
    "    amount0Out\n",
    "    amount1Out\n",
    "    amountUSD\n",
    "  }\n",
    "}\n",
    "'''\n",
    "\n",
    "response_swb = requests.post(url,json={'query': data_swb})\n",
    "data_swb = json.loads(response_swb.text)"
   ]
  },
  {
   "cell_type": "code",
   "execution_count": null,
   "metadata": {},
   "outputs": [],
   "source": [
    "df_swb = pd.DataFrame((pd.DataFrame(data_swb)).iloc[0][0])"
   ]
  },
  {
   "cell_type": "code",
   "execution_count": null,
   "metadata": {},
   "outputs": [],
   "source": [
    "df_swb[\"cz_time\"] = \"before\""
   ]
  },
  {
   "cell_type": "code",
   "execution_count": null,
   "metadata": {},
   "outputs": [],
   "source": [
    "#dataframe the week before CZ_binance - df_swb\n",
    "df_swb.head(5)"
   ]
  },
  {
   "cell_type": "code",
   "execution_count": null,
   "metadata": {},
   "outputs": [],
   "source": [
    "url = 'https://api.thegraph.com/subgraphs/name/uniswap/uniswap-v2'\n",
    "\n",
    "data_swa = '''\n",
    "{\n",
    "  swaps(\n",
    "    orderBy: timestamp,\n",
    "    orderDirection: asc,\n",
    "    first: 1000,\n",
    "    where: {\n",
    "      pair: \"0x92c2fc5f306405eab0ff0958f6d85d7f8892cf4d\",\n",
    "      timestamp_gte: 1616758980\n",
    "      timestamp_lte: 1617360180\n",
    "    }\n",
    "  ) {\n",
    "    transaction {\n",
    "      id\n",
    "      blockNumber\n",
    "    }\n",
    "    timestamp\n",
    "    sender\n",
    "    to\n",
    "    amount0In\n",
    "    amount1In\n",
    "    amount0Out\n",
    "    amount1Out\n",
    "    amountUSD\n",
    "  }\n",
    "}\n",
    "'''\n",
    "\n",
    "response_swa = requests.post(url,json={'query': data_swa})\n",
    "data_swa = json.loads(response_swa.text)"
   ]
  },
  {
   "cell_type": "code",
   "execution_count": null,
   "metadata": {},
   "outputs": [],
   "source": [
    "df_swa = pd.DataFrame((pd.DataFrame(data_swa)).iloc[0][0])"
   ]
  },
  {
   "cell_type": "code",
   "execution_count": null,
   "metadata": {
    "scrolled": true
   },
   "outputs": [],
   "source": [
    "df_swa[\"cz_time\"] = \"after\""
   ]
  },
  {
   "cell_type": "code",
   "execution_count": null,
   "metadata": {},
   "outputs": [],
   "source": [
    "#the week after the cz_binance - df_swa\n",
    "df_swa.head(5)"
   ]
  },
  {
   "cell_type": "code",
   "execution_count": null,
   "metadata": {},
   "outputs": [],
   "source": [
    "#merged dataframe about the time period of 19/03/2021-02/04/2021 - df-sw"
   ]
  },
  {
   "cell_type": "code",
   "execution_count": null,
   "metadata": {},
   "outputs": [],
   "source": [
    "df_sw = df_swb.append([df_swa],ignore_index=True)"
   ]
  },
  {
   "cell_type": "code",
   "execution_count": null,
   "metadata": {},
   "outputs": [],
   "source": [
    "df_sw[['amount0In', 'amount0Out', 'amount1In', 'amount1Out', 'amountUSD', 'timestamp']] = df_sw[['amount0In', 'amount0Out', 'amount1In', 'amount1Out', 'amountUSD', 'timestamp']].apply(pd.to_numeric)"
   ]
  },
  {
   "cell_type": "code",
   "execution_count": null,
   "metadata": {},
   "outputs": [],
   "source": [
    "df_sw['s_price'] = df_sw['amount0Out']/df_sw['amount1In']\n",
    "df_sw['b_price'] = df_sw['amount0In']/df_sw['amount1Out']"
   ]
  },
  {
   "cell_type": "code",
   "execution_count": null,
   "metadata": {},
   "outputs": [],
   "source": [
    "df_sw['s_price']=df_sw['s_price'].fillna(0)\n",
    "df_sw['b_price']=df_sw['b_price'].fillna(0)"
   ]
  },
  {
   "cell_type": "code",
   "execution_count": null,
   "metadata": {},
   "outputs": [],
   "source": [
    "#added variables: price ('price'), transaction category - buy or sell ('trans_cat'), price category('amountUSD_cat'), date format time ('time_r')"
   ]
  },
  {
   "cell_type": "code",
   "execution_count": null,
   "metadata": {},
   "outputs": [],
   "source": [
    "df_sw['price'] = df_sw['s_price']+df_sw['b_price']"
   ]
  },
  {
   "cell_type": "code",
   "execution_count": null,
   "metadata": {},
   "outputs": [],
   "source": [
    "df_sw['trans_cat'] = df_sw['b_price'].apply(lambda x:'buy' if x > 0 else 'sell')"
   ]
  },
  {
   "cell_type": "code",
   "execution_count": null,
   "metadata": {},
   "outputs": [],
   "source": [
    "df_sw['amountUSD_cat'] = df_sw['amountUSD'].apply(lambda x:'<$1000' if x < 1000 else ('<$2000' if x >= 1000 and x < 2000 else ('<$5000' if x >= 2000 and x < 5000 else (' <$10000' if x >= 5000 and x < 10000 else '>=$10000'))))"
   ]
  },
  {
   "cell_type": "code",
   "execution_count": null,
   "metadata": {},
   "outputs": [],
   "source": [
    "df_sw['time_r'] = pd.to_datetime(df_sw['timestamp'], unit='s').apply(lambda x: x.date())"
   ]
  },
  {
   "cell_type": "code",
   "execution_count": null,
   "metadata": {},
   "outputs": [],
   "source": [
    "df_sw1 = df_sw[['time_r', 'trans_cat', 'sender', \"to\", 'amountUSD', 'amountUSD_cat', 'price', 'transaction', 'cz_time']]"
   ]
  },
  {
   "cell_type": "code",
   "execution_count": null,
   "metadata": {},
   "outputs": [],
   "source": [
    "#dropping the transactions where the sender and the receiver are identical"
   ]
  },
  {
   "cell_type": "code",
   "execution_count": null,
   "metadata": {},
   "outputs": [],
   "source": [
    "df_sw1['sen_to_equal'] = df_sw1[\"sender\"] == df_sw1[\"to\"]"
   ]
  },
  {
   "cell_type": "code",
   "execution_count": null,
   "metadata": {},
   "outputs": [],
   "source": [
    "double_check = df_sw1.groupby(['sen_to_equal']).count()\n",
    "double_check"
   ]
  },
  {
   "cell_type": "code",
   "execution_count": null,
   "metadata": {
    "scrolled": true
   },
   "outputs": [],
   "source": [
    "doubles = df_sw1[df_sw1['sen_to_equal'] == True].index"
   ]
  },
  {
   "cell_type": "code",
   "execution_count": null,
   "metadata": {
    "scrolled": true
   },
   "outputs": [],
   "source": [
    "df_sw2 = (df_sw1.drop(doubles)).reset_index(drop=True)"
   ]
  },
  {
   "cell_type": "code",
   "execution_count": null,
   "metadata": {},
   "outputs": [],
   "source": [
    "##dataframe about the transactions between 03/19-04/02 - df_sw2"
   ]
  },
  {
   "cell_type": "code",
   "execution_count": null,
   "metadata": {},
   "outputs": [],
   "source": [
    "df_sw2.head(5)"
   ]
  },
  {
   "cell_type": "markdown",
   "metadata": {},
   "source": [
    "# Before and after CZ_binance dataset"
   ]
  },
  {
   "cell_type": "markdown",
   "metadata": {},
   "source": [
    "### Traders activity"
   ]
  },
  {
   "cell_type": "code",
   "execution_count": null,
   "metadata": {},
   "outputs": [],
   "source": [
    "df_sw_tr_vol = df_sw2.groupby(['to']).agg({'amountUSD': ['sum']} )\n",
    "df_sw_tr_act = df_sw2.groupby(['to']).agg({'to': ['count']} )"
   ]
  },
  {
   "cell_type": "code",
   "execution_count": null,
   "metadata": {},
   "outputs": [],
   "source": [
    "df_sw_tr_volb = df_sw_tr_vol.reset_index()\n",
    "df_sw_tr_actb = df_sw_tr_act.reset_index()"
   ]
  },
  {
   "cell_type": "code",
   "execution_count": null,
   "metadata": {},
   "outputs": [],
   "source": [
    "df_sw_tr_volb.columns = [\"to\", \"amountUSD_sum\"]\n",
    "df_sw_tr_actb.columns = [\"to\", \"transaction_count\"]"
   ]
  },
  {
   "cell_type": "code",
   "execution_count": null,
   "metadata": {},
   "outputs": [],
   "source": [
    "top_volume = (df_sw_tr_volb.sort_values(by=[\"amountUSD_sum\"], ascending=False)).reset_index(drop=True)\n",
    "top_activity = (df_sw_tr_actb.sort_values(by=[\"transaction_count\"], ascending=False)).reset_index(drop=True)"
   ]
  },
  {
   "cell_type": "code",
   "execution_count": null,
   "metadata": {},
   "outputs": [],
   "source": [
    "#Top trades by the number of transactions (\"top_activity\") and the aggregated amount of trading volume (\"top_volume\")\n",
    "top_volume.head(5)"
   ]
  },
  {
   "cell_type": "code",
   "execution_count": null,
   "metadata": {
    "scrolled": true
   },
   "outputs": [],
   "source": [
    "top_activity.head(5)"
   ]
  },
  {
   "cell_type": "code",
   "execution_count": null,
   "metadata": {},
   "outputs": [],
   "source": [
    "#based on the weight of the Nr1 trader, the top 10 trader's chart includes only the [1:11] range "
   ]
  },
  {
   "cell_type": "code",
   "execution_count": null,
   "metadata": {
    "scrolled": false
   },
   "outputs": [],
   "source": [
    "t_v = (top_volume.drop(columns=['amountUSD_sum'])).iloc[1:11, ]\n",
    "t_a = (top_activity.drop(columns=['transaction_count'])).iloc[1:11, ]"
   ]
  },
  {
   "cell_type": "code",
   "execution_count": null,
   "metadata": {},
   "outputs": [],
   "source": [
    "#the overlap between the first 10 most active and biggest volume traders "
   ]
  },
  {
   "cell_type": "code",
   "execution_count": null,
   "metadata": {},
   "outputs": [],
   "source": [
    "overlap = (t_v.to.isin(t_a.to).astype(int)).sum()\n",
    "overlap"
   ]
  },
  {
   "cell_type": "code",
   "execution_count": null,
   "metadata": {},
   "outputs": [],
   "source": [
    "t_v[\"top_traders_v\"] = \"top_vol\"\n",
    "t_a[\"top_traders_a\"] = \"top_act\""
   ]
  },
  {
   "cell_type": "code",
   "execution_count": null,
   "metadata": {
    "scrolled": false
   },
   "outputs": [],
   "source": [
    "t_v.columns=[\"to\", \"top_traders_v\"]\n",
    "t_a.columns=[\"to\", \"top_traders_a\"]"
   ]
  },
  {
   "cell_type": "code",
   "execution_count": null,
   "metadata": {},
   "outputs": [],
   "source": [
    "df_v = pd.merge(df_sw2, t_v, how=\"left\", on=[\"to\"])"
   ]
  },
  {
   "cell_type": "code",
   "execution_count": null,
   "metadata": {},
   "outputs": [],
   "source": [
    "df_va = pd.merge(df_v, t_a, how=\"left\", on=[\"to\"])"
   ]
  },
  {
   "cell_type": "code",
   "execution_count": null,
   "metadata": {},
   "outputs": [],
   "source": [
    "t_v_p = df_va[(df_va[\"top_traders_v\"] == \"top_vol\")]\n",
    "t_a_p = df_va[(df_va[\"top_traders_a\"] == \"top_act\")]"
   ]
  },
  {
   "cell_type": "code",
   "execution_count": null,
   "metadata": {},
   "outputs": [],
   "source": [
    "def xyz(col):\n",
    "    if col['trans_cat'] == \"sell\":\n",
    "        val = col['amountUSD']*-1\n",
    "    else:\n",
    "        val = col['amountUSD']\n",
    "    return val"
   ]
  },
  {
   "cell_type": "code",
   "execution_count": null,
   "metadata": {
    "scrolled": false
   },
   "outputs": [],
   "source": [
    "t_v_p['amountUSD_pos'] = t_v_p.apply(xyz, axis=1)"
   ]
  },
  {
   "cell_type": "code",
   "execution_count": null,
   "metadata": {},
   "outputs": [],
   "source": [
    "#subset of transactions, initiated by the biggest traders - t_v_p, t_v_a\n",
    "t_v_p.head(5)"
   ]
  },
  {
   "cell_type": "code",
   "execution_count": null,
   "metadata": {},
   "outputs": [],
   "source": [
    "#the waterfall chart includes the trading activity of the biggest (by volume) HOPR traders by volume"
   ]
  },
  {
   "cell_type": "code",
   "execution_count": null,
   "metadata": {},
   "outputs": [],
   "source": [
    "wat_fal_v = t_v_p.groupby([\"time_r\", \"trans_cat\"]).agg({'amountUSD_pos': ['sum']} )"
   ]
  },
  {
   "cell_type": "code",
   "execution_count": null,
   "metadata": {},
   "outputs": [],
   "source": [
    "wat_fal_v2 = wat_fal_v.reset_index()\n",
    "wat_fal_v2.columns = [\"time_r\", \"trans_cat\", \"amountUSD_pos\"]"
   ]
  },
  {
   "cell_type": "code",
   "execution_count": null,
   "metadata": {},
   "outputs": [],
   "source": [
    "from waterfall_ax import WaterfallChart"
   ]
  },
  {
   "cell_type": "code",
   "execution_count": null,
   "metadata": {},
   "outputs": [],
   "source": [
    "wat_fal_v2[\"amountUSD_pos2\"] = wat_fal_v2[\"amountUSD_pos\"]/1000"
   ]
  },
  {
   "cell_type": "code",
   "execution_count": null,
   "metadata": {},
   "outputs": [],
   "source": [
    "ab = list(wat_fal_v2.amountUSD_pos2.cumsum())"
   ]
  },
  {
   "cell_type": "code",
   "execution_count": null,
   "metadata": {
    "scrolled": true
   },
   "outputs": [],
   "source": [
    "plt.style.use('ggplot')\n",
    "\n",
    "step_names = [' 19','19 ', '20 ', '20 ', ' 21', '21 ', ' 22', '22 ', ' 23', '23 ', ' 24', '24 ', ' 25', '25 ', ' 26', '26 ', ' 27', '27 ', ' 28', '28 ', ' 29', '29 ', ' 30', '30 ', ' 31', '31 ', ' 1', '1 ', ' 2', ' ']\n",
    "metric_name = 'amount in USD (1000)'\n",
    "bar_kwargs = {'edgecolor': color1}\n",
    "line_kwargs = {'color': color3}\n",
    "\n",
    "# Plot\n",
    "waterfall = WaterfallChart(ab, step_names= step_names, metric_name= metric_name)\n",
    "\n",
    "#waterfall = WaterfallChart(ab, step_names = step_names, metric_name = metric_name,last_step_label = last_step_label)\n",
    "wf_ax = waterfall.plot_waterfall(title='Biggest volume traders', bar_labels = False, bar_kwargs = bar_kwargs, line_kwargs = line_kwargs)"
   ]
  },
  {
   "cell_type": "markdown",
   "metadata": {},
   "source": [
    "### Daily trading activity"
   ]
  },
  {
   "cell_type": "code",
   "execution_count": null,
   "metadata": {},
   "outputs": [],
   "source": [
    "after_czb00 = df_sw[(df_sw[\"cz_time\"] == \"after\")]\n",
    "before_czb00 = df_sw[(df_sw[\"cz_time\"] == \"before\")]"
   ]
  },
  {
   "cell_type": "code",
   "execution_count": null,
   "metadata": {},
   "outputs": [],
   "source": [
    "after_czb0 = (after_czb00.sort_values(by=['time_r'])).reset_index()\n",
    "before_czb0 = (before_czb00.sort_values(by=['time_r'])).reset_index()"
   ]
  },
  {
   "cell_type": "code",
   "execution_count": null,
   "metadata": {},
   "outputs": [],
   "source": [
    "after_czb = after_czb0[['time_r', 'trans_cat', 'sender', \"to\", 'amountUSD', 'amountUSD_cat', 'price', 'transaction', 'index']]\n",
    "before_czb = before_czb0[['time_r', 'trans_cat', 'sender', \"to\", 'amountUSD', 'amountUSD_cat', 'price', 'transaction', 'index']]"
   ]
  },
  {
   "cell_type": "code",
   "execution_count": null,
   "metadata": {},
   "outputs": [],
   "source": [
    "#subset of datasets separated by CZ_Binance tweet - after_czb, before_czb\n",
    "after_czb.head(5)"
   ]
  },
  {
   "cell_type": "code",
   "execution_count": null,
   "metadata": {},
   "outputs": [],
   "source": [
    "after_usd_s = after_czb.groupby(['time_r', 'amountUSD_cat']).agg({'amountUSD': ['sum']} ).unstack('amountUSD_cat')\n",
    "before_usd_s = before_czb.groupby(['time_r', 'amountUSD_cat']).agg({'amountUSD': ['sum']} ).unstack('amountUSD_cat')"
   ]
  },
  {
   "cell_type": "code",
   "execution_count": null,
   "metadata": {},
   "outputs": [],
   "source": [
    "after_usd_s.columns = ['<$10000', '<$1000', '<$2000', '<$5000','>=$10000']\n",
    "before_usd_s.columns = ['<$10000', '<$1000', '<$2000', '<$5000','>=$10000']"
   ]
  },
  {
   "cell_type": "code",
   "execution_count": null,
   "metadata": {},
   "outputs": [],
   "source": [
    "# composition of the trading activity before and after CZ_Binance, by the volume of the trading\n",
    "#(consider the non-linear structure of the labeling!)"
   ]
  },
  {
   "cell_type": "code",
   "execution_count": null,
   "metadata": {
    "scrolled": false
   },
   "outputs": [],
   "source": [
    "before_usd_s.plot.bar(stacked=True, figsize=(10,5))\n",
    "after_usd_s.plot.bar(stacked=True, figsize=(10,5))"
   ]
  },
  {
   "cell_type": "code",
   "execution_count": null,
   "metadata": {},
   "outputs": [],
   "source": [
    "# composition of the trading activity before and after CZ_Binance, by the normalized volume of the trading\n",
    "#(consider the non-linear structure of the labeling!)"
   ]
  },
  {
   "cell_type": "code",
   "execution_count": null,
   "metadata": {},
   "outputs": [],
   "source": [
    "after_usd_s2 = after_usd_s.div(after_usd_s.sum(1), axis=0)\n",
    "before_usd_s2 = before_usd_s.div(before_usd_s.sum(1), axis=0)"
   ]
  },
  {
   "cell_type": "code",
   "execution_count": null,
   "metadata": {
    "scrolled": false
   },
   "outputs": [],
   "source": [
    "before_usd_s2.plot.bar(stacked=True, figsize=(10,5))\n",
    "after_usd_s2.plot.bar(stacked=True, figsize=(10,5))"
   ]
  },
  {
   "cell_type": "code",
   "execution_count": null,
   "metadata": {},
   "outputs": [],
   "source": [
    "# composition of the trading activity before and after CZ_Binance, by the normalized number of transactions\n",
    "#(consider the non-linear structure of the labeling!)"
   ]
  },
  {
   "cell_type": "code",
   "execution_count": null,
   "metadata": {},
   "outputs": [],
   "source": [
    "after_usd_c = after_czb.groupby('time_r')['amountUSD_cat'].value_counts(normalize=True).unstack('amountUSD_cat')\n",
    "before_usd_c = before_czb.groupby('time_r')['amountUSD_cat'].value_counts(normalize=True).unstack('amountUSD_cat')"
   ]
  },
  {
   "cell_type": "code",
   "execution_count": null,
   "metadata": {
    "scrolled": false
   },
   "outputs": [],
   "source": [
    "before_usd_c.plot.bar(stacked=True, figsize=(10,5))\n",
    "after_usd_c.plot.bar(stacked=True, figsize=(10,5))"
   ]
  },
  {
   "cell_type": "markdown",
   "metadata": {},
   "source": [
    "### Conclusions"
   ]
  },
  {
   "cell_type": "markdown",
   "metadata": {},
   "source": [
    "HOPR - ETH - BTC\n",
    "\n",
    "HOPR has a strong, negative correlation with ETH.\n",
    "\n",
    "However, based on the scaled dataset, the trend in the correlation between HOPR and ETH was weak positive until the begining of April, when it flipped. \n",
    "\n",
    "HOPR has moderate, positive correlation with BTW. \n",
    "\n",
    "CZ_Binance effect\n",
    "\n",
    "The CZ_Binance tweet influenced the price, the trading volume, and the number of transactions.\n",
    "\n",
    "The immediate effect was the strongest on the 29th and 30th of March, when besides the increase in the price, the volume of the trade doubled (2 times higher on the 29th and 1,5 times higher on the 30th) compared to the days before the tweet. \n",
    "\n",
    "The tweet also influenced the structure of the trading. The increase of the trading volume was caused mostly by “big players” (10000$+ ) but it raised the attention of the 5000$ -10000$ group as well, which is more visible in the number of transactions. \n",
    "\n",
    "5 traders out of the top 10 highest volume trader also appears in the top 10 most active trader (measured by the number of transaction initiated within the given period)  \n"
   ]
  }
 ],
 "metadata": {
  "kernelspec": {
   "display_name": "Python 3",
   "language": "python",
   "name": "python3"
  },
  "language_info": {
   "codemirror_mode": {
    "name": "ipython",
    "version": 3
   },
   "file_extension": ".py",
   "mimetype": "text/x-python",
   "name": "python",
   "nbconvert_exporter": "python",
   "pygments_lexer": "ipython3",
   "version": "3.7.1"
  }
 },
 "nbformat": 4,
 "nbformat_minor": 2
}
